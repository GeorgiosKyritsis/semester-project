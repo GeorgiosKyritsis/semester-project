{
 "cells": [
  {
   "cell_type": "code",
   "execution_count": 29,
   "metadata": {
    "collapsed": true
   },
   "outputs": [],
   "source": [
    "# loading all necessary libraries\n",
    "import requests\n",
    "import nltk\n",
    "import re\n",
    "from bs4 import BeautifulSoup\n",
    "from nltk.tag import StanfordNERTagger\n",
    "from nltk.tokenize import word_tokenize"
   ]
  },
  {
   "cell_type": "markdown",
   "metadata": {},
   "source": [
    "## Download data from web-page"
   ]
  },
  {
   "cell_type": "code",
   "execution_count": 2,
   "metadata": {
    "collapsed": true
   },
   "outputs": [],
   "source": [
    "url = 'http://www.nytimes.com/2016/12/08/us/politics/andrew-puzder-labor-secretary-trump.html?hp&action=click&pgtype=Homepage&clickSource=story-heading&module=first-column-region&region=top-news&WT.nav=top-news&_r=0'"
   ]
  },
  {
   "cell_type": "code",
   "execution_count": 3,
   "metadata": {
    "collapsed": false
   },
   "outputs": [],
   "source": [
    "# send request to fetch the page\n",
    "page = requests.get(url)"
   ]
  },
  {
   "cell_type": "code",
   "execution_count": 4,
   "metadata": {
    "collapsed": true
   },
   "outputs": [],
   "source": [
    "# keep only the text of the response (html file) and parse it\n",
    "soup = BeautifulSoup(page.text, 'html.parser')\n",
    "# All data is inside p tags (paragraphs)\n",
    "# so we parse them\n",
    "p_tag = soup.find_all('p')"
   ]
  },
  {
   "cell_type": "code",
   "execution_count": 5,
   "metadata": {
    "collapsed": false
   },
   "outputs": [],
   "source": [
    "txt = []\n",
    "for p in p_tag:\n",
    "    txt.append(p.text)\n"
   ]
  },
  {
   "cell_type": "code",
   "execution_count": 6,
   "metadata": {
    "collapsed": false
   },
   "outputs": [
    {
     "data": {
      "text/plain": [
       "['Advertisement',\n",
       " 'By NOAM SCHEIBERDEC. 8, 2016\\n',\n",
       " 'President-elect Donald J. Trump on Thursday chose Andrew F. Puzder, chief executive of the company that franchises the fast-food outlets Hardee’s and Carl’s Jr. and an outspoken critic of the worker protections enacted by the Obama administration, to be secretary of labor.',\n",
       " '“Andy Puzder has created and boosted the careers of thousands of Americans, and his extensive record fighting for workers makes him the ideal candidate to lead the Department of Labor,” Mr. Trump said in a statement.',\n",
       " 'Mr. Puzder, 66, fits the profile of some of Mr. Trump’s other domestic cabinet appointments. He is a wealthy businessman and political donor and has a long record of promoting a conservative agenda that takes aim at President Obama’s legacy. And more than the other appointments, he resembles Mr. Trump in style.',\n",
       " 'He seems to delight in bashing elites — he complained that “big corporate interests” and “globalist companies” were supporting Hillary Clinton in the presidential election — and is prone to the occasional streak of political incorrectness.',\n",
       " 'Advertisement',\n",
       " 'On policy questions, he has argued that the Obama administration’s recent rule expanding eligibility for overtime pay diminishes opportunities for workers, and that significant minimum wage increases would hurt small businesses and lead to job losses.',\n",
       " 'Advertisement',\n",
       " 'He has criticized paid sick leave policies of the sort recently enacted for federal contractors and strongly supports repealing the Affordable Care Act, which he says has created a “government-mandated restaurant recession” because rising premiums have left people with less money to spend dining out.',\n",
       " 'Speaking to Business Insider this year, Mr. Puzder said that increased automation could be a welcome development because machines were “always polite, they always upsell, they never take a vacation, they never show up late, there’s never a slip-and-fall or an age, sex or race discrimination case.”',\n",
       " 'And on the political incorrectness front, Mr. Puzder’s company, CKE Restaurants, runs advertisements that frequently feature women wearing next to nothing while gesturing suggestively. “I like our ads,” he told the publication Entrepreneur. “I like beautiful women eating burgers in bikinis. I think it’s very American.”',\n",
       " 'Richard L. Trumka, president of the A.F.L.-C.I.O., said Mr. Puzder was “a man whose business record is defined by fighting against working people.”',\n",
       " '\\n                A list of possibilities and appointees for top posts in the new administration.            ',\n",
       " 'As labor secretary, Mr. Puzder would oversee the federal apparatus that investigates violations of minimum wage, overtime and worker safety laws and regulations. According to a Labor Department database, many Hardee’s and Carl’s Jr. stores have been investigated over the past 15 years, and some have been fined or ordered to pay back wages, though most of the cases appear to have been at stores owned and operated by franchisees, not CKE itself. Such investigations are relatively common in the fast-food industry.',\n",
       " 'Matthew Haller, senior vice president for public affairs and communications at the International Franchise Association, of which Mr. Puzder is a board member, said Mr. Puzder saw “a role for government to provide advice to employers, rather than simply deterrence by ‘gotcha’ enforcement,” an allusion to the Obama Labor Department’s enforcement of laws and regulations in the fast-food industry.',\n",
       " 'Mr. Haller and other allies of Mr. Puzder said that those who took the time to look beyond his most provocative statements would find the wisdom of a man who has toiled on labor issues for years.',\n",
       " '“His position on the minimum wage is more nuanced than people want to give him credit for,” Mr. Haller said.',\n",
       " 'Advertisement',\n",
       " '“I wouldn’t be surprised if there’s middle ground” on the overtime rule, he added. “He’s a business person, a deal maker.”',\n",
       " 'There is some evidence to support that view. In a Wall Street Journal op-ed article after his comments on automation, Mr. Puzder wrote that humans remained important “to assure smooth experiences” for customers.',\n",
       " 'In an appearance on Fox Business in May, he said that he was “not opposed to raising the minimum wage rationally; I’m opposed to raising it to the point where lower-skilled workers, working-class Americans, young people, minorities, are losing the jobs they need to get on the ladder of success.”',\n",
       " 'Though he did not explain what a “rational” increase would entail, he opposed the Obama administration’s efforts to raise the federal minimum wage to $10.10 from $7.25, where it has stood since 2009. That is far below the $15 per hour that many advocates have called for and that a variety of cities and states have enacted in recent years, albeit on a gradual timetable.',\n",
       " 'Economic research suggests that an increase to the vicinity of $10.10 per hour would have little or no effect on employment in much of the country, though the impact could be larger in low-wage, low-cost areas. Mr. Puzder has raised concerns about the effects in those regions.',\n",
       " 'What you need to know to start your day, delivered to your inbox Monday through Friday.',\n",
       " \"Please verify you're not a robot by clicking the box.\",\n",
       " 'Invalid email address. Please re-enter.',\n",
       " 'You must select a newsletter to subscribe to.',\n",
       " 'View all New York Times newsletters.',\n",
       " 'On other issues, Mr. Puzder has taken hard-line positions that leave less room for negotiation. Perhaps most prominent is the so-called joint employer doctrine that the Obama administration and its agency appointees have put forth in recent years.',\n",
       " 'Under that doctrine, large companies that have franchises or hire other companies as contractors are more likely to be held liable for violations of employment laws by those contractors or franchisees. Parent companies typically argue that they have no legal responsibility in these cases.',\n",
       " 'Mr. Puzder has been unambiguous in his disdain for the new standard. As labor secretary, there are certain immediate steps he could take to undo it, though there are some applications, like to the law governing unions, that would require action by the National Labor Relations Board or federal courts to overturn.',\n",
       " 'Advertisement',\n",
       " 'Perhaps the biggest question surrounding Mr. Puzder is how he would be perceived as a wealthy chief executive charged with looking out for workers’ interests.',\n",
       " 'According to a 2012 filing with the Securities and Exchange Commission, Mr. Puzder’s base salary that year was more than $1 million and his total compensation over $4 million, down from more than $10 million the year before. “Annual base salaries should be competitive and create a measure of financial security for our executive officers,” the filing said.',\n",
       " 'During the 2016 election cycle, Mr. Puzder and his wife gave more than $300,000 to Mr. Trump’s campaign and the Republican National Committee. But for all his populist rhetoric, his previous political contributions — as well as his positions on most business issues and regulations, and his reading habits — suggest he is more of an orthodox Republican than Mr. Trump.',\n",
       " 'Before backing Mr. Trump, he donated to the campaigns of Marco Rubio, Carly Fiorina, Rick Perry, Scott Walker and Jeb Bush, and he helped shape Mitt Romney’s economic plan in 2011. When asked to provide some insight into what Mr. Puzder was like away from the job, Mr. Haller said he was an avid reader who loved Ayn Rand, the libertarian novelist.',\n",
       " 'According to a 1989 article in The St. Louis Post-Dispatch, Mr. Puzder helped draft a Missouri law banning most abortions at public facilities and requiring doctors to test the viability of fetuses starting at 20 weeks. But according to another Post-Dispatch article, after his ex-wife accused him of domestic violence, he offered to resign from a task force convened by Gov. John Ashcroft to study a Supreme Court decision upholding the law.',\n",
       " 'Mr. Puzder, who declined to comment for this article, eventually did resign from the task force, but he denied the allegations. The Trump transition team forwarded a recent letter from his ex-wife declaring that she had been “counseled then to file an allegation of abuse.” She added, “I regretted and still regret that decision, and I withdrew those allegations.”',\n",
       " '“You were not abusive,” she said.',\n",
       " 'Maggie Haberman contributed reporting.',\n",
       " 'Get politics and Washington news updates via Facebook, Twitter and in the Morning Briefing newsletter.',\n",
       " \"A version of this article appears in print on December 9, 2016, on page A1 of the New York edition with the headline: Choice for Labor Rejects Increase in Minimum Wage.  Order Reprints| Today's Paper|Subscribe\\n\\n\",\n",
       " 'We’re interested in your feedback on this page. Tell us what you think.',\n",
       " 'See More »',\n",
       " 'Go to Home Page »']"
      ]
     },
     "execution_count": 6,
     "metadata": {},
     "output_type": "execute_result"
    }
   ],
   "source": [
    "txt"
   ]
  },
  {
   "cell_type": "code",
   "execution_count": 7,
   "metadata": {
    "collapsed": false
   },
   "outputs": [],
   "source": [
    "# clean text\n",
    "# remove list elements that contain the following strings\n",
    "remove = ['Advertisement', 'Go to Home Page', 'feedback on this page',\n",
    "          'See More', 'not a robot', 'New York Times newsletters',\n",
    "          'Order Reprints', 'Invalid email address',\n",
    "          'news updates via Facebook', 'top posts in the new administration']"
   ]
  },
  {
   "cell_type": "code",
   "execution_count": 9,
   "metadata": {
    "collapsed": false
   },
   "outputs": [
    {
     "data": {
      "text/plain": [
       "['By NOAM SCHEIBERDEC. 8, 2016\\n',\n",
       " 'President-elect Donald J. Trump on Thursday chose Andrew F. Puzder, chief executive of the company that franchises the fast-food outlets Hardee’s and Carl’s Jr. and an outspoken critic of the worker protections enacted by the Obama administration, to be secretary of labor.',\n",
       " '“Andy Puzder has created and boosted the careers of thousands of Americans, and his extensive record fighting for workers makes him the ideal candidate to lead the Department of Labor,” Mr. Trump said in a statement.',\n",
       " 'Mr. Puzder, 66, fits the profile of some of Mr. Trump’s other domestic cabinet appointments. He is a wealthy businessman and political donor and has a long record of promoting a conservative agenda that takes aim at President Obama’s legacy. And more than the other appointments, he resembles Mr. Trump in style.',\n",
       " 'He seems to delight in bashing elites — he complained that “big corporate interests” and “globalist companies” were supporting Hillary Clinton in the presidential election — and is prone to the occasional streak of political incorrectness.',\n",
       " 'On policy questions, he has argued that the Obama administration’s recent rule expanding eligibility for overtime pay diminishes opportunities for workers, and that significant minimum wage increases would hurt small businesses and lead to job losses.',\n",
       " 'He has criticized paid sick leave policies of the sort recently enacted for federal contractors and strongly supports repealing the Affordable Care Act, which he says has created a “government-mandated restaurant recession” because rising premiums have left people with less money to spend dining out.',\n",
       " 'Speaking to Business Insider this year, Mr. Puzder said that increased automation could be a welcome development because machines were “always polite, they always upsell, they never take a vacation, they never show up late, there’s never a slip-and-fall or an age, sex or race discrimination case.”',\n",
       " 'And on the political incorrectness front, Mr. Puzder’s company, CKE Restaurants, runs advertisements that frequently feature women wearing next to nothing while gesturing suggestively. “I like our ads,” he told the publication Entrepreneur. “I like beautiful women eating burgers in bikinis. I think it’s very American.”',\n",
       " 'Richard L. Trumka, president of the A.F.L.-C.I.O., said Mr. Puzder was “a man whose business record is defined by fighting against working people.”',\n",
       " 'As labor secretary, Mr. Puzder would oversee the federal apparatus that investigates violations of minimum wage, overtime and worker safety laws and regulations. According to a Labor Department database, many Hardee’s and Carl’s Jr. stores have been investigated over the past 15 years, and some have been fined or ordered to pay back wages, though most of the cases appear to have been at stores owned and operated by franchisees, not CKE itself. Such investigations are relatively common in the fast-food industry.',\n",
       " 'Matthew Haller, senior vice president for public affairs and communications at the International Franchise Association, of which Mr. Puzder is a board member, said Mr. Puzder saw “a role for government to provide advice to employers, rather than simply deterrence by ‘gotcha’ enforcement,” an allusion to the Obama Labor Department’s enforcement of laws and regulations in the fast-food industry.',\n",
       " 'Mr. Haller and other allies of Mr. Puzder said that those who took the time to look beyond his most provocative statements would find the wisdom of a man who has toiled on labor issues for years.',\n",
       " '“His position on the minimum wage is more nuanced than people want to give him credit for,” Mr. Haller said.',\n",
       " '“I wouldn’t be surprised if there’s middle ground” on the overtime rule, he added. “He’s a business person, a deal maker.”',\n",
       " 'There is some evidence to support that view. In a Wall Street Journal op-ed article after his comments on automation, Mr. Puzder wrote that humans remained important “to assure smooth experiences” for customers.',\n",
       " 'In an appearance on Fox Business in May, he said that he was “not opposed to raising the minimum wage rationally; I’m opposed to raising it to the point where lower-skilled workers, working-class Americans, young people, minorities, are losing the jobs they need to get on the ladder of success.”',\n",
       " 'Though he did not explain what a “rational” increase would entail, he opposed the Obama administration’s efforts to raise the federal minimum wage to $10.10 from $7.25, where it has stood since 2009. That is far below the $15 per hour that many advocates have called for and that a variety of cities and states have enacted in recent years, albeit on a gradual timetable.',\n",
       " 'Economic research suggests that an increase to the vicinity of $10.10 per hour would have little or no effect on employment in much of the country, though the impact could be larger in low-wage, low-cost areas. Mr. Puzder has raised concerns about the effects in those regions.',\n",
       " 'What you need to know to start your day, delivered to your inbox Monday through Friday.',\n",
       " 'You must select a newsletter to subscribe to.',\n",
       " 'On other issues, Mr. Puzder has taken hard-line positions that leave less room for negotiation. Perhaps most prominent is the so-called joint employer doctrine that the Obama administration and its agency appointees have put forth in recent years.',\n",
       " 'Under that doctrine, large companies that have franchises or hire other companies as contractors are more likely to be held liable for violations of employment laws by those contractors or franchisees. Parent companies typically argue that they have no legal responsibility in these cases.',\n",
       " 'Mr. Puzder has been unambiguous in his disdain for the new standard. As labor secretary, there are certain immediate steps he could take to undo it, though there are some applications, like to the law governing unions, that would require action by the National Labor Relations Board or federal courts to overturn.',\n",
       " 'Perhaps the biggest question surrounding Mr. Puzder is how he would be perceived as a wealthy chief executive charged with looking out for workers’ interests.',\n",
       " 'According to a 2012 filing with the Securities and Exchange Commission, Mr. Puzder’s base salary that year was more than $1 million and his total compensation over $4 million, down from more than $10 million the year before. “Annual base salaries should be competitive and create a measure of financial security for our executive officers,” the filing said.',\n",
       " 'During the 2016 election cycle, Mr. Puzder and his wife gave more than $300,000 to Mr. Trump’s campaign and the Republican National Committee. But for all his populist rhetoric, his previous political contributions — as well as his positions on most business issues and regulations, and his reading habits — suggest he is more of an orthodox Republican than Mr. Trump.',\n",
       " 'Before backing Mr. Trump, he donated to the campaigns of Marco Rubio, Carly Fiorina, Rick Perry, Scott Walker and Jeb Bush, and he helped shape Mitt Romney’s economic plan in 2011. When asked to provide some insight into what Mr. Puzder was like away from the job, Mr. Haller said he was an avid reader who loved Ayn Rand, the libertarian novelist.',\n",
       " 'According to a 1989 article in The St. Louis Post-Dispatch, Mr. Puzder helped draft a Missouri law banning most abortions at public facilities and requiring doctors to test the viability of fetuses starting at 20 weeks. But according to another Post-Dispatch article, after his ex-wife accused him of domestic violence, he offered to resign from a task force convened by Gov. John Ashcroft to study a Supreme Court decision upholding the law.',\n",
       " 'Mr. Puzder, who declined to comment for this article, eventually did resign from the task force, but he denied the allegations. The Trump transition team forwarded a recent letter from his ex-wife declaring that she had been “counseled then to file an allegation of abuse.” She added, “I regretted and still regret that decision, and I withdrew those allegations.”',\n",
       " '“You were not abusive,” she said.',\n",
       " 'Maggie Haberman contributed reporting.']"
      ]
     },
     "execution_count": 9,
     "metadata": {},
     "output_type": "execute_result"
    }
   ],
   "source": [
    "txt_cleaned = [txt_c for txt_c in txt if not any(temp in txt_c for temp in remove)]\n",
    "txt_cleaned"
   ]
  },
  {
   "cell_type": "code",
   "execution_count": 10,
   "metadata": {
    "collapsed": false
   },
   "outputs": [
    {
     "data": {
      "text/plain": [
       "'“Andy Puzder has created and boosted the careers of thousands of Americans, and his extensive record fighting for workers makes him the ideal candidate to lead the Department of Labor,” Mr. Trump said in a statement.'"
      ]
     },
     "execution_count": 10,
     "metadata": {},
     "output_type": "execute_result"
    }
   ],
   "source": [
    "txt_cleaned[2]"
   ]
  },
  {
   "cell_type": "markdown",
   "metadata": {},
   "source": [
    "## Perform Named-entity-recognition to find persons"
   ]
  },
  {
   "cell_type": "code",
   "execution_count": 11,
   "metadata": {
    "collapsed": true
   },
   "outputs": [],
   "source": [
    "st = StanfordNERTagger('/Users/kyritsis/stanford-ner-2015-12-09/classifiers/english.muc.7class.distsim.crf.ser.gz','/Users/kyritsis/stanford-ner-2015-12-09/stanford-ner.jar')"
   ]
  },
  {
   "cell_type": "code",
   "execution_count": 12,
   "metadata": {
    "collapsed": false
   },
   "outputs": [],
   "source": [
    "ans = st.tag(txt_cleaned[1].split())"
   ]
  },
  {
   "cell_type": "code",
   "execution_count": 13,
   "metadata": {
    "collapsed": false
   },
   "outputs": [
    {
     "data": {
      "text/plain": [
       "[('President-elect', 'O'),\n",
       " ('Donald', 'PERSON'),\n",
       " ('J.', 'PERSON'),\n",
       " ('Trump', 'PERSON'),\n",
       " ('on', 'O'),\n",
       " ('Thursday', 'DATE'),\n",
       " ('chose', 'O'),\n",
       " ('Andrew', 'PERSON'),\n",
       " ('F.', 'PERSON'),\n",
       " ('Puzder,', 'PERSON'),\n",
       " ('chief', 'O'),\n",
       " ('executive', 'O'),\n",
       " ('of', 'O'),\n",
       " ('the', 'O'),\n",
       " ('company', 'O'),\n",
       " ('that', 'O'),\n",
       " ('franchises', 'O'),\n",
       " ('the', 'O'),\n",
       " ('fast-food', 'O'),\n",
       " ('outlets', 'O'),\n",
       " ('Hardee’s', 'O'),\n",
       " ('and', 'O'),\n",
       " ('Carl’s', 'PERSON'),\n",
       " ('Jr.', 'PERSON'),\n",
       " ('and', 'O'),\n",
       " ('an', 'O'),\n",
       " ('outspoken', 'O'),\n",
       " ('critic', 'O'),\n",
       " ('of', 'O'),\n",
       " ('the', 'O'),\n",
       " ('worker', 'O'),\n",
       " ('protections', 'O'),\n",
       " ('enacted', 'O'),\n",
       " ('by', 'O'),\n",
       " ('the', 'O'),\n",
       " ('Obama', 'PERSON'),\n",
       " ('administration,', 'O'),\n",
       " ('to', 'O'),\n",
       " ('be', 'O'),\n",
       " ('secretary', 'O'),\n",
       " ('of', 'O'),\n",
       " ('labor.', 'O')]"
      ]
     },
     "execution_count": 13,
     "metadata": {},
     "output_type": "execute_result"
    }
   ],
   "source": [
    "ans"
   ]
  },
  {
   "cell_type": "code",
   "execution_count": 27,
   "metadata": {
    "collapsed": false
   },
   "outputs": [],
   "source": [
    "def find_persons(ans):\n",
    "    persons = []\n",
    "    index = 0\n",
    "    while index < len(ans):\n",
    "        if ans[index][1] == 'PERSON':\n",
    "            if ((index + 1) < len(ans)) and (ans[index+1][1] == 'PERSON') :\n",
    "                if ans[index+2][1] == 'PERSON':\n",
    "                    str = ans[index][0] + ' ' + ans[index+1][0] + ' ' + ans[index+2][0]\n",
    "                    index = index + 3\n",
    "                    persons.append(str)\n",
    "                    continue\n",
    "                str = ans[index][0] + ' ' + ans[index+1][0]\n",
    "                index = index + 2\n",
    "                persons.append(str)\n",
    "                continue\n",
    "            persons.append(ans[index][0])\n",
    "            index = index + 1\n",
    "            continue\n",
    "        index = index + 1\n",
    "\n",
    "    return persons  "
   ]
  },
  {
   "cell_type": "code",
   "execution_count": 28,
   "metadata": {
    "collapsed": false
   },
   "outputs": [
    {
     "data": {
      "text/plain": [
       "['Donald J. Trump', 'Andrew F. Puzder,', 'Carl’s Jr.', 'Obama']"
      ]
     },
     "execution_count": 28,
     "metadata": {},
     "output_type": "execute_result"
    }
   ],
   "source": [
    "find_persons(ans)"
   ]
  },
  {
   "cell_type": "markdown",
   "metadata": {},
   "source": [
    "## Example 1"
   ]
  },
  {
   "cell_type": "code",
   "execution_count": 31,
   "metadata": {
    "collapsed": false
   },
   "outputs": [
    {
     "data": {
      "text/plain": [
       "'“Andy Puzder has created and boosted the careers of thousands of Americans, and his extensive record fighting for workers makes him the ideal candidate to lead the Department of Labor,” Mr. Trump said in a statement.'"
      ]
     },
     "execution_count": 31,
     "metadata": {},
     "output_type": "execute_result"
    }
   ],
   "source": [
    "ex1 = txt_cleaned[2]\n",
    "ex1"
   ]
  },
  {
   "cell_type": "code",
   "execution_count": 32,
   "metadata": {
    "collapsed": false
   },
   "outputs": [
    {
     "data": {
      "text/plain": [
       "['Puzder', 'Trump']"
      ]
     },
     "execution_count": 32,
     "metadata": {},
     "output_type": "execute_result"
    }
   ],
   "source": [
    "# find persons\n",
    "persons = find_persons(st.tag(ex1.split()))\n",
    "persons"
   ]
  },
  {
   "cell_type": "code",
   "execution_count": null,
   "metadata": {
    "collapsed": true
   },
   "outputs": [],
   "source": [
    "# find string in double quotes"
   ]
  },
  {
   "cell_type": "code",
   "execution_count": 36,
   "metadata": {
    "collapsed": false
   },
   "outputs": [
    {
     "data": {
      "text/plain": [
       "['Andy Puzder has created and boosted the careers of thousands of Americans, and his extensive record fighting for workers makes him the ideal candidate to lead the Department of Labor,']"
      ]
     },
     "execution_count": 36,
     "metadata": {},
     "output_type": "execute_result"
    }
   ],
   "source": [
    "quotes = re.findall(r'“([^\"]*)”', txt_cleaned[2])\n",
    "quotes"
   ]
  },
  {
   "cell_type": "code",
   "execution_count": 38,
   "metadata": {
    "collapsed": false
   },
   "outputs": [
    {
     "data": {
      "text/plain": [
       "['Andy Puzder']"
      ]
     },
     "execution_count": 38,
     "metadata": {},
     "output_type": "execute_result"
    }
   ],
   "source": [
    "# check if a person exists to phrases in order to exclude this name\n",
    "persons_quotes = find_persons(st.tag(quotes[0].split()))\n",
    "persons_quotes"
   ]
  },
  {
   "cell_type": "code",
   "execution_count": 45,
   "metadata": {
    "collapsed": false
   },
   "outputs": [],
   "source": [
    "a = ex1.split()"
   ]
  },
  {
   "cell_type": "code",
   "execution_count": 48,
   "metadata": {
    "collapsed": false
   },
   "outputs": [
    {
     "data": {
      "text/plain": [
       "32"
      ]
     },
     "execution_count": 48,
     "metadata": {},
     "output_type": "execute_result"
    }
   ],
   "source": [
    "ind = a.index('said')\n",
    "ind"
   ]
  },
  {
   "cell_type": "code",
   "execution_count": 55,
   "metadata": {
    "collapsed": false
   },
   "outputs": [
    {
     "data": {
      "text/plain": [
       "['Trump']"
      ]
     },
     "execution_count": 55,
     "metadata": {},
     "output_type": "execute_result"
    }
   ],
   "source": [
    "# Check before index if person exists\n",
    "matching = [s for s in persons if a[31] in s]\n",
    "matching"
   ]
  },
  {
   "cell_type": "code",
   "execution_count": 58,
   "metadata": {
    "collapsed": false
   },
   "outputs": [
    {
     "data": {
      "text/plain": [
       "{'Trump': 'Andy Puzder has created and boosted the careers of thousands of Americans, and his extensive record fighting for workers makes him the ideal candidate to lead the Department of Labor,'}"
      ]
     },
     "execution_count": 58,
     "metadata": {},
     "output_type": "execute_result"
    }
   ],
   "source": [
    "d = {}\n",
    "d[matching[0]] = quotes[0]\n",
    "d"
   ]
  },
  {
   "cell_type": "markdown",
   "metadata": {},
   "source": [
    "## Example 2"
   ]
  },
  {
   "cell_type": "code",
   "execution_count": 59,
   "metadata": {
    "collapsed": false
   },
   "outputs": [
    {
     "data": {
      "text/plain": [
       "'Richard L. Trumka, president of the A.F.L.-C.I.O., said Mr. Puzder was “a man whose business record is defined by fighting against working people.”'"
      ]
     },
     "execution_count": 59,
     "metadata": {},
     "output_type": "execute_result"
    }
   ],
   "source": [
    "ex2 = txt_cleaned[9]\n",
    "ex2"
   ]
  },
  {
   "cell_type": "code",
   "execution_count": 61,
   "metadata": {
    "collapsed": false
   },
   "outputs": [
    {
     "data": {
      "text/plain": [
       "['Richard L. Trumka,', 'Puzder']"
      ]
     },
     "execution_count": 61,
     "metadata": {},
     "output_type": "execute_result"
    }
   ],
   "source": [
    "# find persons\n",
    "persons = find_persons(st.tag(ex2.split()))\n",
    "persons"
   ]
  },
  {
   "cell_type": "code",
   "execution_count": 63,
   "metadata": {
    "collapsed": false
   },
   "outputs": [
    {
     "data": {
      "text/plain": [
       "['Richard',\n",
       " 'L.',\n",
       " 'Trumka,',\n",
       " 'president',\n",
       " 'of',\n",
       " 'the',\n",
       " 'A.F.L.-C.I.O.,',\n",
       " 'said',\n",
       " 'Mr.',\n",
       " 'Puzder',\n",
       " 'was',\n",
       " '“a',\n",
       " 'man',\n",
       " 'whose',\n",
       " 'business',\n",
       " 'record',\n",
       " 'is',\n",
       " 'defined',\n",
       " 'by',\n",
       " 'fighting',\n",
       " 'against',\n",
       " 'working',\n",
       " 'people.”']"
      ]
     },
     "execution_count": 63,
     "metadata": {},
     "output_type": "execute_result"
    }
   ],
   "source": [
    "a = ex2.split()\n",
    "a"
   ]
  },
  {
   "cell_type": "code",
   "execution_count": 64,
   "metadata": {
    "collapsed": false
   },
   "outputs": [
    {
     "data": {
      "text/plain": [
       "7"
      ]
     },
     "execution_count": 64,
     "metadata": {},
     "output_type": "execute_result"
    }
   ],
   "source": [
    "ind = a.index('said')\n",
    "ind"
   ]
  },
  {
   "cell_type": "code",
   "execution_count": 80,
   "metadata": {
    "collapsed": false
   },
   "outputs": [],
   "source": [
    "for i in range(0,ind):\n",
    "    temp = [s for s in persons if a[i] in s]\n",
    "    if temp:\n",
    "        matching = [s for s in persons if a[i] in s]"
   ]
  },
  {
   "cell_type": "code",
   "execution_count": 76,
   "metadata": {
    "collapsed": false
   },
   "outputs": [
    {
     "data": {
      "text/plain": [
       "['Richard L. Trumka,']"
      ]
     },
     "execution_count": 76,
     "metadata": {},
     "output_type": "execute_result"
    }
   ],
   "source": [
    "matching"
   ]
  },
  {
   "cell_type": "code",
   "execution_count": 78,
   "metadata": {
    "collapsed": false
   },
   "outputs": [
    {
     "data": {
      "text/plain": [
       "['a man whose business record is defined by fighting against working people.']"
      ]
     },
     "execution_count": 78,
     "metadata": {},
     "output_type": "execute_result"
    }
   ],
   "source": [
    "# extract quote\n",
    "quotes = re.findall(r'“([^\"]*)”', ex2)\n",
    "quotes"
   ]
  },
  {
   "cell_type": "code",
   "execution_count": 79,
   "metadata": {
    "collapsed": false
   },
   "outputs": [
    {
     "data": {
      "text/plain": [
       "{'Richard L. Trumka,': 'a man whose business record is defined by fighting against working people.'}"
      ]
     },
     "execution_count": 79,
     "metadata": {},
     "output_type": "execute_result"
    }
   ],
   "source": [
    "d = {}\n",
    "d[matching[0]] = quotes[0]\n",
    "d"
   ]
  },
  {
   "cell_type": "markdown",
   "metadata": {},
   "source": [
    "## Example 3 (Difficult)"
   ]
  },
  {
   "cell_type": "code",
   "execution_count": 81,
   "metadata": {
    "collapsed": false
   },
   "outputs": [
    {
     "data": {
      "text/plain": [
       "'Matthew Haller, senior vice president for public affairs and communications at the International Franchise Association, of which Mr. Puzder is a board member, said Mr. Puzder saw “a role for government to provide advice to employers, rather than simply deterrence by ‘gotcha’ enforcement,” an allusion to the Obama Labor Department’s enforcement of laws and regulations in the fast-food industry.'"
      ]
     },
     "execution_count": 81,
     "metadata": {},
     "output_type": "execute_result"
    }
   ],
   "source": [
    "ex3 = txt_cleaned[11]\n",
    "ex3"
   ]
  },
  {
   "cell_type": "code",
   "execution_count": 83,
   "metadata": {
    "collapsed": false
   },
   "outputs": [
    {
     "data": {
      "text/plain": [
       "['Matthew Haller,', 'Puzder', 'Puzder']"
      ]
     },
     "execution_count": 83,
     "metadata": {},
     "output_type": "execute_result"
    }
   ],
   "source": [
    "# find persons\n",
    "persons = find_persons(st.tag(ex3.split()))\n",
    "persons"
   ]
  },
  {
   "cell_type": "code",
   "execution_count": null,
   "metadata": {
    "collapsed": false
   },
   "outputs": [],
   "source": []
  }
 ],
 "metadata": {
  "anaconda-cloud": {},
  "kernelspec": {
   "display_name": "Python [default]",
   "language": "python",
   "name": "python3"
  },
  "language_info": {
   "codemirror_mode": {
    "name": "ipython",
    "version": 3
   },
   "file_extension": ".py",
   "mimetype": "text/x-python",
   "name": "python",
   "nbconvert_exporter": "python",
   "pygments_lexer": "ipython3",
   "version": "3.5.2"
  }
 },
 "nbformat": 4,
 "nbformat_minor": 1
}
